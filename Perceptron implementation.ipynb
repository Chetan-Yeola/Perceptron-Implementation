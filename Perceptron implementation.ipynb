{
 "cells": [
  {
   "cell_type": "code",
   "execution_count": 1,
   "id": "28983c38",
   "metadata": {},
   "outputs": [],
   "source": [
    "import os \n",
    "import matplotlib.pyplot as plt\n",
    "import joblib\n",
    "import numpy as np\n",
    "import pandas as pd\n",
    "plt.style.use(\"fivethirtyeight\")"
   ]
  },
  {
   "cell_type": "code",
   "execution_count": 50,
   "id": "894a0586",
   "metadata": {},
   "outputs": [],
   "source": [
    "class Perceptron:\n",
    "    def __init__(self,eta: float=None, epochs: int=None):\n",
    "        self.weights = np.random.randn(3) * 1e-4\n",
    "        self.eta = eta #learning rate\n",
    "        self.epochs = epochs #iteration\n",
    "    \n",
    "    def _z_outcomes(self, inputs, weights):\n",
    "        return np.dot(inputs, weights)\n",
    "        \n",
    "    def activation_function(self,z):\n",
    "        return np.where(z >0, 1, 0)\n",
    "    \n",
    "    def fit(self, X, y):\n",
    "        self.X = X\n",
    "        self.y = y\n",
    "        \n",
    "        X_with_bias = np.c_[self.X, -np.ones((len(self.X),1))]\n",
    "        print(f\"X With bias :\\n {X_with_bias}\")\n",
    "        \n",
    "        \n",
    "        for epoch in range(self.epochs):\n",
    "            print(\"--\"*10)\n",
    "            print(f\"for epoch >> {epoch + 1}\")\n",
    "            print(\"--\"*10)\n",
    "\n",
    "            z = self._z_outcomes(X_with_bias,self.weights)\n",
    "            y_hat = self.activation_function(z)\n",
    "            print(f\"predicted value after forward pass: \\n{y_hat}\")\n",
    "            \n",
    "            self.error = self.y - y_hat\n",
    "            print(f\"error: \\n{self.error}\")\n",
    "            \n",
    "            self.weights = self.weights + self.eta * np.dot(X_with_bias.T,self.error)\n",
    "            print(f\"updated weights after epoch: {epoch + 1}/{self.epochs}: \\n{self.weights}\")\n",
    "            print(f\"##\"*10)\n",
    "    \n",
    "    \n",
    "    \n",
    "    def predict(self, X):\n",
    "        X_with_bias = np.c_[X, -np.ones((len(X),1))]\n",
    "        z = self._z_outcomes(X_with_bias, self.weights)\n",
    "        return self.activation_function(z)\n",
    "    \n",
    "    "
   ]
  },
  {
   "cell_type": "code",
   "execution_count": 19,
   "id": "01e91842",
   "metadata": {},
   "outputs": [],
   "source": [
    "obj = Perceptron(eta = 0.01,epochs = 4)"
   ]
  },
  {
   "cell_type": "code",
   "execution_count": 20,
   "id": "d5fb6c68",
   "metadata": {},
   "outputs": [
    {
     "data": {
      "text/plain": [
       "0.01"
      ]
     },
     "execution_count": 20,
     "metadata": {},
     "output_type": "execute_result"
    }
   ],
   "source": [
    "obj.eta"
   ]
  },
  {
   "cell_type": "code",
   "execution_count": 21,
   "id": "bc1e4c61",
   "metadata": {},
   "outputs": [
    {
     "data": {
      "text/plain": [
       "4"
      ]
     },
     "execution_count": 21,
     "metadata": {},
     "output_type": "execute_result"
    }
   ],
   "source": [
    "obj.epochs"
   ]
  },
  {
   "cell_type": "code",
   "execution_count": 22,
   "id": "6f6f958e",
   "metadata": {},
   "outputs": [
    {
     "data": {
      "text/plain": [
       "array([-6.02627800e-05, -1.38472393e-04, -1.92587258e-04,  2.87862268e-04])"
      ]
     },
     "execution_count": 22,
     "metadata": {},
     "output_type": "execute_result"
    }
   ],
   "source": [
    "obj.weights"
   ]
  },
  {
   "cell_type": "code",
   "execution_count": 70,
   "id": "e6385e26",
   "metadata": {},
   "outputs": [],
   "source": [
    "X = np.ones((4,2))"
   ]
  },
  {
   "cell_type": "code",
   "execution_count": 71,
   "id": "763ffd40",
   "metadata": {},
   "outputs": [
    {
     "data": {
      "text/plain": [
       "array([[1., 1.],\n",
       "       [1., 1.],\n",
       "       [1., 1.],\n",
       "       [1., 1.]])"
      ]
     },
     "execution_count": 71,
     "metadata": {},
     "output_type": "execute_result"
    }
   ],
   "source": [
    "X"
   ]
  },
  {
   "cell_type": "code",
   "execution_count": 42,
   "id": "8c61ff9c",
   "metadata": {},
   "outputs": [
    {
     "data": {
      "text/plain": [
       "array([[1.],\n",
       "       [1.],\n",
       "       [1.],\n",
       "       [1.]])"
      ]
     },
     "execution_count": 42,
     "metadata": {},
     "output_type": "execute_result"
    }
   ],
   "source": [
    "y = np.ones((4,1))\n",
    "y"
   ]
  },
  {
   "cell_type": "code",
   "execution_count": 43,
   "id": "ceff2750",
   "metadata": {},
   "outputs": [
    {
     "name": "stdout",
     "output_type": "stream",
     "text": [
      "X With bias :\n",
      " [[ 1.  1. -1.]\n",
      " [ 1.  1. -1.]\n",
      " [ 1.  1. -1.]\n",
      " [ 1.  1. -1.]]\n"
     ]
    }
   ],
   "source": [
    "obj.fit(X,y)"
   ]
  },
  {
   "cell_type": "code",
   "execution_count": 51,
   "id": "a3903e35",
   "metadata": {},
   "outputs": [
    {
     "data": {
      "text/html": [
       "<div>\n",
       "<style scoped>\n",
       "    .dataframe tbody tr th:only-of-type {\n",
       "        vertical-align: middle;\n",
       "    }\n",
       "\n",
       "    .dataframe tbody tr th {\n",
       "        vertical-align: top;\n",
       "    }\n",
       "\n",
       "    .dataframe thead th {\n",
       "        text-align: right;\n",
       "    }\n",
       "</style>\n",
       "<table border=\"1\" class=\"dataframe\">\n",
       "  <thead>\n",
       "    <tr style=\"text-align: right;\">\n",
       "      <th></th>\n",
       "      <th>x1</th>\n",
       "      <th>x2</th>\n",
       "      <th>y</th>\n",
       "    </tr>\n",
       "  </thead>\n",
       "  <tbody>\n",
       "    <tr>\n",
       "      <th>0</th>\n",
       "      <td>0</td>\n",
       "      <td>0</td>\n",
       "      <td>0</td>\n",
       "    </tr>\n",
       "    <tr>\n",
       "      <th>1</th>\n",
       "      <td>0</td>\n",
       "      <td>1</td>\n",
       "      <td>1</td>\n",
       "    </tr>\n",
       "    <tr>\n",
       "      <th>2</th>\n",
       "      <td>1</td>\n",
       "      <td>0</td>\n",
       "      <td>1</td>\n",
       "    </tr>\n",
       "    <tr>\n",
       "      <th>3</th>\n",
       "      <td>1</td>\n",
       "      <td>1</td>\n",
       "      <td>1</td>\n",
       "    </tr>\n",
       "  </tbody>\n",
       "</table>\n",
       "</div>"
      ],
      "text/plain": [
       "   x1  x2  y\n",
       "0   0   0  0\n",
       "1   0   1  1\n",
       "2   1   0  1\n",
       "3   1   1  1"
      ]
     },
     "execution_count": 51,
     "metadata": {},
     "output_type": "execute_result"
    }
   ],
   "source": [
    " OR = {\n",
    "     \"x1\":[0,0,1,1],\n",
    "     \"x2\":[0,1,0,1],\n",
    "     \"y\" : [0,1,1,1],\n",
    " }\n",
    "    \n",
    "df_OR = pd.DataFrame(OR)\n",
    "df_OR\n"
   ]
  },
  {
   "cell_type": "code",
   "execution_count": 52,
   "id": "404ce034",
   "metadata": {},
   "outputs": [],
   "source": [
    "def prepare_data(df, target_col = \"y\"):\n",
    "    X = df_OR.drop(target_col,axis= 1)\n",
    "    y = df_OR[target_col]\n",
    "    return X,y"
   ]
  },
  {
   "cell_type": "code",
   "execution_count": 53,
   "id": "6b5ee4e5",
   "metadata": {},
   "outputs": [
    {
     "name": "stdout",
     "output_type": "stream",
     "text": [
      "X With bias :\n",
      " [[ 0.  0. -1.]\n",
      " [ 0.  1. -1.]\n",
      " [ 1.  0. -1.]\n",
      " [ 1.  1. -1.]]\n",
      "--------------------\n",
      "for epoch >> 1\n",
      "--------------------\n",
      "predicted value after forward pass: \n",
      "[0 1 0 1]\n",
      "error: \n",
      "0    0\n",
      "1    0\n",
      "2    1\n",
      "3    0\n",
      "Name: y, dtype: int64\n",
      "updated weights after epoch: 1/10: \n",
      "[ 1.00023394e-01  9.90265060e-05 -9.99382379e-02]\n",
      "####################\n",
      "--------------------\n",
      "for epoch >> 2\n",
      "--------------------\n",
      "predicted value after forward pass: \n",
      "[1 1 1 1]\n",
      "error: \n",
      "0   -1\n",
      "1    0\n",
      "2    0\n",
      "3    0\n",
      "Name: y, dtype: int64\n",
      "updated weights after epoch: 2/10: \n",
      "[1.00023394e-01 9.90265060e-05 6.17621357e-05]\n",
      "####################\n",
      "--------------------\n",
      "for epoch >> 3\n",
      "--------------------\n",
      "predicted value after forward pass: \n",
      "[0 1 1 1]\n",
      "error: \n",
      "0    0\n",
      "1    0\n",
      "2    0\n",
      "3    0\n",
      "Name: y, dtype: int64\n",
      "updated weights after epoch: 3/10: \n",
      "[1.00023394e-01 9.90265060e-05 6.17621357e-05]\n",
      "####################\n",
      "--------------------\n",
      "for epoch >> 4\n",
      "--------------------\n",
      "predicted value after forward pass: \n",
      "[0 1 1 1]\n",
      "error: \n",
      "0    0\n",
      "1    0\n",
      "2    0\n",
      "3    0\n",
      "Name: y, dtype: int64\n",
      "updated weights after epoch: 4/10: \n",
      "[1.00023394e-01 9.90265060e-05 6.17621357e-05]\n",
      "####################\n",
      "--------------------\n",
      "for epoch >> 5\n",
      "--------------------\n",
      "predicted value after forward pass: \n",
      "[0 1 1 1]\n",
      "error: \n",
      "0    0\n",
      "1    0\n",
      "2    0\n",
      "3    0\n",
      "Name: y, dtype: int64\n",
      "updated weights after epoch: 5/10: \n",
      "[1.00023394e-01 9.90265060e-05 6.17621357e-05]\n",
      "####################\n",
      "--------------------\n",
      "for epoch >> 6\n",
      "--------------------\n",
      "predicted value after forward pass: \n",
      "[0 1 1 1]\n",
      "error: \n",
      "0    0\n",
      "1    0\n",
      "2    0\n",
      "3    0\n",
      "Name: y, dtype: int64\n",
      "updated weights after epoch: 6/10: \n",
      "[1.00023394e-01 9.90265060e-05 6.17621357e-05]\n",
      "####################\n",
      "--------------------\n",
      "for epoch >> 7\n",
      "--------------------\n",
      "predicted value after forward pass: \n",
      "[0 1 1 1]\n",
      "error: \n",
      "0    0\n",
      "1    0\n",
      "2    0\n",
      "3    0\n",
      "Name: y, dtype: int64\n",
      "updated weights after epoch: 7/10: \n",
      "[1.00023394e-01 9.90265060e-05 6.17621357e-05]\n",
      "####################\n",
      "--------------------\n",
      "for epoch >> 8\n",
      "--------------------\n",
      "predicted value after forward pass: \n",
      "[0 1 1 1]\n",
      "error: \n",
      "0    0\n",
      "1    0\n",
      "2    0\n",
      "3    0\n",
      "Name: y, dtype: int64\n",
      "updated weights after epoch: 8/10: \n",
      "[1.00023394e-01 9.90265060e-05 6.17621357e-05]\n",
      "####################\n",
      "--------------------\n",
      "for epoch >> 9\n",
      "--------------------\n",
      "predicted value after forward pass: \n",
      "[0 1 1 1]\n",
      "error: \n",
      "0    0\n",
      "1    0\n",
      "2    0\n",
      "3    0\n",
      "Name: y, dtype: int64\n",
      "updated weights after epoch: 9/10: \n",
      "[1.00023394e-01 9.90265060e-05 6.17621357e-05]\n",
      "####################\n",
      "--------------------\n",
      "for epoch >> 10\n",
      "--------------------\n",
      "predicted value after forward pass: \n",
      "[0 1 1 1]\n",
      "error: \n",
      "0    0\n",
      "1    0\n",
      "2    0\n",
      "3    0\n",
      "Name: y, dtype: int64\n",
      "updated weights after epoch: 10/10: \n",
      "[1.00023394e-01 9.90265060e-05 6.17621357e-05]\n",
      "####################\n"
     ]
    }
   ],
   "source": [
    "X,y = prepare_data(df_OR)\n",
    "X\n",
    "ETA = 0.1\n",
    "EPOCHS = 10\n",
    "\n",
    "model_or = Perceptron(eta = ETA, epochs =EPOCHS)\n",
    "\n",
    "model_or.fit(X,y)"
   ]
  },
  {
   "cell_type": "code",
   "execution_count": 48,
   "id": "e348e596",
   "metadata": {},
   "outputs": [
    {
     "data": {
      "text/plain": [
       "0    0\n",
       "1    1\n",
       "2    1\n",
       "3    1\n",
       "Name: y, dtype: int64"
      ]
     },
     "execution_count": 48,
     "metadata": {},
     "output_type": "execute_result"
    }
   ],
   "source": [
    "y"
   ]
  },
  {
   "cell_type": "code",
   "execution_count": 49,
   "id": "f60afec5",
   "metadata": {},
   "outputs": [
    {
     "data": {
      "text/plain": [
       "array([0, 1, 1, 1])"
      ]
     },
     "execution_count": 49,
     "metadata": {},
     "output_type": "execute_result"
    }
   ],
   "source": [
    "model_or.predict(X)"
   ]
  },
  {
   "cell_type": "code",
   "execution_count": null,
   "id": "4e295fd9",
   "metadata": {},
   "outputs": [],
   "source": []
  }
 ],
 "metadata": {
  "kernelspec": {
   "display_name": "Python 3 (ipykernel)",
   "language": "python",
   "name": "python3"
  },
  "language_info": {
   "codemirror_mode": {
    "name": "ipython",
    "version": 3
   },
   "file_extension": ".py",
   "mimetype": "text/x-python",
   "name": "python",
   "nbconvert_exporter": "python",
   "pygments_lexer": "ipython3",
   "version": "3.9.13"
  }
 },
 "nbformat": 4,
 "nbformat_minor": 5
}
